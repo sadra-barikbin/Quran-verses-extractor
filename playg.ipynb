{
 "cells": [
  {
   "cell_type": "code",
   "execution_count": 66,
   "metadata": {},
   "outputs": [],
   "source": [
    "quran_file = 'id_text_with_orthographies.txt'"
   ]
  },
  {
   "cell_type": "code",
   "execution_count": 67,
   "metadata": {},
   "outputs": [],
   "source": [
    "with open(quran_file) as fp:\n",
    "    temp = fp.readlines()"
   ]
  },
  {
   "cell_type": "code",
   "execution_count": 68,
   "metadata": {
    "pycharm": {
     "name": "#%%\n"
    }
   },
   "outputs": [],
   "source": [
    "verses = {}\n",
    "\n",
    "for verse in temp:\n",
    "    spls = verse.split('\\t')\n",
    "    verse_no = spls[0]\n",
    "    verse_con = spls[1].strip()\n",
    "    verses[verse_no] = verse_con"
   ]
  },
  {
   "cell_type": "code",
   "execution_count": 69,
   "metadata": {
    "collapsed": false,
    "jupyter": {
     "outputs_hidden": false
    },
    "pycharm": {
     "name": "#%%\n"
    }
   },
   "outputs": [],
   "source": [
    "import json\n",
    "\n",
    "with open('analysis.json') as fp:\n",
    "    analysis_data = json.load(fp)\n",
    "\n",
    "# with open('quran_prep.json') as fp:\n",
    "#     verses = json.load(fp)"
   ]
  },
  {
   "cell_type": "code",
   "execution_count": 70,
   "metadata": {
    "collapsed": false,
    "pycharm": {
     "name": "#%%\n"
    }
   },
   "outputs": [],
   "source": [
    "import csv\n",
    "\n",
    "vavs = {}\n",
    "\n",
    "with open('Vav.csv') as fp:\n",
    "    reader = csv.reader(fp, delimiter=',')\n",
    "    for i, row in enumerate(reader):\n",
    "        if i == 0:\n",
    "            continue\n",
    "        else:\n",
    "            vavs[row[0]] = int(row[1])\n",
    "vavs_keys = set(vavs.keys())\n"
   ]
  },
  {
   "cell_type": "code",
   "execution_count": 50,
   "metadata": {
    "collapsed": false,
    "pycharm": {
     "name": "#%%\n"
    }
   },
   "outputs": [
    {
     "data": {
      "text/plain": [
       "0"
      ]
     },
     "execution_count": 50,
     "metadata": {},
     "output_type": "execute_result"
    }
   ],
   "source": [
    "vavs['والارض']"
   ]
  },
  {
   "cell_type": "code",
   "execution_count": 71,
   "metadata": {
    "collapsed": false,
    "pycharm": {
     "name": "#%%\n"
    }
   },
   "outputs": [],
   "source": [
    "import re\n",
    "\n",
    "verses_prep = {}\n",
    "with_diacritic_verses_prep = {}\n",
    "for verse_id, text in verses.items():\n",
    "    text = re.sub(r'[\\s]+', ' ', text)\n",
    "    with_diacritic_verse_tokens = [w for w in re.split(r' \\b',text)]\n",
    "    text = re.sub(r'[' + analysis_data['pun'] + 'ّ]', '', text)\n",
    "    for key, val in analysis_data['repl'].items():\n",
    "        text = re.sub(r'[' + key + ']', val, text)\n",
    "    verse_tokens = [w for w in text.split(' ') if w!='']\n",
    "    \n",
    "    commons = set.intersection(set(verse_tokens), vavs_keys)\n",
    "    if commons:\n",
    "        verse_tokens_new = []\n",
    "        with_diacritic_verse_tokens_new=[]\n",
    "        for i, w in enumerate(verse_tokens):\n",
    "            command='SEPARATE'\n",
    "            if w in commons:\n",
    "                if vavs[w] == 0:\n",
    "                    if w == 'وال':\n",
    "                        if verse_tokens[i - 1] == 'من':\n",
    "                            command='DONT_SEPARATE'\n",
    "                    elif w == 'ورد':\n",
    "                        if verse_tokens[i + 1] == 'ماء':\n",
    "                            command='DONT_SEPARATE'\n",
    "                    elif w == 'وكل':\n",
    "                        if verse_tokens[i + 1] == 'بكم':\n",
    "                            command='DONT_SEPARATE'\n",
    "                    elif w == 'ولي':\n",
    "                        if not (verse_tokens[i + 1] == 'فيها' or verse_tokens[i + 1] == 'نعجة' or verse_tokens[i + 1] == 'دين'):\n",
    "                            command='DONT_SEPARATE'\n",
    "                    elif w == 'وليتم':\n",
    "                        if verse_tokens[i + 1] == 'مدبرين':\n",
    "                            command='DONT_SEPARATE'\n",
    "                    elif w == 'وليقولوا':\n",
    "                        if verse_tokens[i + 1] == 'قولا':\n",
    "                            command='DONT_SEPARATE'\n",
    "                    elif w == 'وهب':\n",
    "                        if verse_tokens[i - 1] == 'الذي':\n",
    "                            command='DONT_SEPARATE'\n",
    "                    elif w == 'وفي':\n",
    "                        if verse_tokens[i - 1] == 'الذي':\n",
    "                            command='DONT_SEPARATE'\n",
    "                    elif w == 'والارض':\n",
    "                        if i == 0 and verse_tokens[i + 1] in ['ذات', 'و']:\n",
    "                            command='DONT_SEPARATE'\n",
    "                    elif w == 'والسماء':\n",
    "                        if i == 0 and verse_tokens[i + 1] in ['ذات', 'و']:\n",
    "                            command='DONT_SEPARATE'\n",
    "                    elif w == 'والشمس':\n",
    "                        if i == 0 and verse_tokens[i + 1] == 'و':\n",
    "                            command='DONT_SEPARATE'\n",
    "                    elif w == 'والقران':\n",
    "                        if verse_tokens[i + 1] in ['الحكيم', 'ذي', 'المجيد']:\n",
    "                            command='DONT_SEPARATE'\n",
    "                    elif w == 'والقمر':\n",
    "                        if (i > 0 and verse_tokens[i - 1] == 'كلا') or (i == 0 and verse_tokens[i + 1] == 'اذا'):\n",
    "                            command='DONT_SEPARATE'\n",
    "                    elif w == 'والكتاب':\n",
    "                        if verse_tokens[i + 1] == 'المبين':\n",
    "                            command='DONT_SEPARATE'\n",
    "                    elif w == 'والنهار':\n",
    "                        if i == 0 and verse_tokens[i + 1] == 'اذا':\n",
    "                            command='DONT_SEPARATE'\n",
    "                    elif w == 'وهذا':\n",
    "                        if i == 0 and verse_tokens[i + 1] == 'البلد':\n",
    "                            command='DONT_SEPARATE'\n",
    "                    elif w == 'وربك':\n",
    "                        if i > 0 and verse_tokens[i - 1] == 'فلا':\n",
    "                            command='DONT_SEPARATE'\n",
    "                    elif w == 'والله':\n",
    "                        if i > 0 and verse_tokens[i + 1] == 'ربنا':\n",
    "                            command='DONT_SEPARATE'\n",
    "                    elif w == 'وربنا':\n",
    "                        if i > 0 and verse_tokens[i - 1] == 'بلي':\n",
    "                            command='DONT_SEPARATE'\n",
    "                    else:\n",
    "                        command='DONT_SEPARATE'\n",
    "                elif vavs[w] == 1:\n",
    "                    command='DONT_SEPARATE'\n",
    "            else:\n",
    "                command='DONT_SEPARATE' \n",
    "            if command=='DONT_SEPARATE':\n",
    "                verse_tokens_new.append(verse_tokens[i])\n",
    "                with_diacritic_verse_tokens_new.append(with_diacritic_verse_tokens[i])\n",
    "            else:\n",
    "                with_diacritic_verse_tokens_new.append(str(with_diacritic_verse_tokens[i][:2]))\n",
    "                with_diacritic_verse_tokens_new.append(with_diacritic_verse_tokens[i][2:])\n",
    "                verse_tokens_new.append(str(verse_tokens[i][0]))\n",
    "                verse_tokens_new.append(verse_tokens[i][1:])\n",
    "        verses_prep[verse_id] = verse_tokens_new\n",
    "        with_diacritic_verses_prep[verse_id] = with_diacritic_verse_tokens_new\n",
    "    else:\n",
    "        verses_prep[verse_id] = verse_tokens\n",
    "        with_diacritic_verses_prep[verse_id] = with_diacritic_verse_tokens\n",
    "quran_text = ' '.join([' '.join(val) for val in verses_prep.values()])\n",
    "with_diacritic_quran_text = ' '.join([' '.join(val) for val in with_diacritic_verses_prep.values()])\n",
    "words = re.split(r' \\b',quran_text)\n",
    "with_diacritic_words = re.split(r' \\b',with_diacritic_quran_text)"
   ]
  },
  {
   "cell_type": "code",
   "execution_count": 83,
   "metadata": {
    "collapsed": false,
    "jupyter": {
     "outputs_hidden": false
    },
    "pycharm": {
     "name": "#%%\n"
    }
   },
   "outputs": [],
   "source": [
    "words_set = sorted(set(words))\n",
    "with_diacritic_words_set = sorted(set(with_diacritic_words))\n",
    "words_set = ['[UNK]']+words_set\n",
    "with_diacritic_words_set = ['[UNK]']+words_set\n",
    "\n",
    "words_map = {w:i for i, w in enumerate(words_set)}\n",
    "with open('word_codes.json', 'w') as fw:\n",
    "    json.dump(words_map, fw, ensure_ascii=False)\n",
    "\n",
    "with open('words_with_diacritics.txt', 'w') as fw:\n",
    "    for w in with_diacritic_words_set:\n",
    "        fw.write(w + '\\n')"
   ]
  },
  {
   "cell_type": "code",
   "execution_count": 84,
   "metadata": {
    "collapsed": false,
    "jupyter": {
     "outputs_hidden": false
    },
    "pycharm": {
     "name": "#%%\n"
    }
   },
   "outputs": [],
   "source": [
    "with open('quran_prep_with_diacritics.json', 'w') as fw:\n",
    "    json.dump(with_diacritic_verses_prep, fw, ensure_ascii=False)"
   ]
  },
  {
   "cell_type": "code",
   "execution_count": 85,
   "metadata": {},
   "outputs": [],
   "source": [
    "with open('quran_prep.json', 'w') as fw:\n",
    "    json.dump(verses_prep, fw, ensure_ascii=False)"
   ]
  },
  {
   "cell_type": "code",
   "execution_count": 86,
   "metadata": {
    "collapsed": false,
    "jupyter": {
     "outputs_hidden": false
    },
    "pycharm": {
     "name": "#%%\n"
    }
   },
   "outputs": [],
   "source": [
    "words_sub = set([w for w in words if w and w[0] == 'و'])\n",
    "words_sub_sub = set([w for w in words_sub if w[1:] not in words])"
   ]
  },
  {
   "cell_type": "code",
   "execution_count": 87,
   "metadata": {
    "collapsed": false,
    "pycharm": {
     "name": "#%%\n"
    }
   },
   "outputs": [],
   "source": [
    "with open('words_starts_with_v.txt', 'w') as fw:\n",
    "    for w in words_sub:\n",
    "        fw.write(w + '\\n')"
   ]
  },
  {
   "cell_type": "code",
   "execution_count": 88,
   "metadata": {
    "collapsed": false,
    "jupyter": {
     "outputs_hidden": false
    },
    "pycharm": {
     "name": "#%%\n"
    }
   },
   "outputs": [],
   "source": [
    "words_set = set([w for w in words if w[0] != 'و'])\n",
    "words_one = [w for w in words_set if len(w) == 1]"
   ]
  },
  {
   "cell_type": "code",
   "execution_count": 89,
   "metadata": {
    "collapsed": false,
    "jupyter": {
     "outputs_hidden": false
    },
    "pycharm": {
     "name": "#%%\n"
    }
   },
   "outputs": [],
   "source": [
    "index = {}\n",
    "for verse_id, verse_seq in verses_prep.items():\n",
    "    for word_id in [words_map[w] for w in verse_seq if w]:\n",
    "        if not word_id in index:\n",
    "            index[word_id] = set()\n",
    "        index[word_id].add(verse_id)"
   ]
  },
  {
   "cell_type": "code",
   "execution_count": 90,
   "metadata": {
    "collapsed": false,
    "jupyter": {
     "outputs_hidden": false
    },
    "pycharm": {
     "name": "#%%\n"
    }
   },
   "outputs": [],
   "source": [
    "for key in index:\n",
    "    index[key] = sorted(list(index[key]))\n",
    "\n",
    "with open('verse_index.json', 'w') as fw:\n",
    "    json.dump(index, fw)"
   ]
  },
  {
   "cell_type": "code",
   "execution_count": 91,
   "metadata": {
    "collapsed": false,
    "pycharm": {
     "name": "#%%\n"
    }
   },
   "outputs": [
    {
     "data": {
      "text/plain": [
       "[('الا', 'ان', 'قالوا', 'والله', 'ربنا')]"
      ]
     },
     "execution_count": 91,
     "metadata": {},
     "output_type": "execute_result"
    }
   ],
   "source": [
    "[(words[i - 3], words[i - 2], words[i - 1], words[i], words[i + 1]) for i in range(len(words)) if words[i] == 'والله']"
   ]
  }
 ],
 "metadata": {
  "kernelspec": {
   "display_name": "Python 3",
   "language": "python",
   "name": "python3"
  },
  "language_info": {
   "codemirror_mode": {
    "name": "ipython",
    "version": 3
   },
   "file_extension": ".py",
   "mimetype": "text/x-python",
   "name": "python",
   "nbconvert_exporter": "python",
   "pygments_lexer": "ipython3",
   "version": "3.6.9"
  }
 },
 "nbformat": 4,
 "nbformat_minor": 4
}
